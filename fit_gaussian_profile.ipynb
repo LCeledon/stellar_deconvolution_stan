{
 "cells": [
  {
   "cell_type": "markdown",
   "metadata": {},
   "source": [
    "# Fitting gaussians profile\n",
    "\n",
    "The only goal of this notebook is to receive a convoluted profile and fitted with n gaussians, so I can use that values as initial values for stan in R or Mathematica."
   ]
  },
  {
   "cell_type": "code",
   "execution_count": 1,
   "metadata": {},
   "outputs": [],
   "source": [
    "import numpy as np\n",
    "import matplotlib.pyplot as plt\n",
    "from scipy.optimize import minimize\n",
    "import matplotlib.pyplot as plt"
   ]
  },
  {
   "cell_type": "code",
   "execution_count": 2,
   "metadata": {},
   "outputs": [],
   "source": [
    "class StellarProfile:\n",
    "    \n",
    "    def __init__(self, profile_path:str, m:int, args_init:list=None, method:str=None, print_sol:bool=False):\n",
    "        \"\"\"\n",
    "        profile_path = path to the input profile, str.\n",
    "        m = number of gaussians to fit, int.\n",
    "        args_init = initial values, default None\n",
    "        method = method pass to minimize function, str. default None.\n",
    "        print_sol = print minimize solution for debuggin purposes, bool. default False.\n",
    "        \"\"\"\n",
    "        self.m = m\n",
    "        self.wave, self.flux = np.loadtxt(profile_path, unpack=True)\n",
    "        self.args_init = args_init\n",
    "        self.method=method\n",
    "        self.print_sol=print_sol\n",
    "        \n",
    "        if self.args_init is None:\n",
    "            self.args_init = []\n",
    "            for i in range(m):\n",
    "                self.args_init.append(0.0)\n",
    "                self.args_init.append(-5.0+i*10/(m-1))\n",
    "                self.args_init.append(1.0)\n",
    "\n",
    "        self.args_fit = self.fit_n_gauss(self.wave, self.flux, self.args_init, method=self.method,\n",
    "                                         print_sol=self.print_sol)\n",
    "        \n",
    "        self.do_plot()\n",
    "\n",
    "    def gauss(self, x, args):\n",
    "        \"\"\"compute a gaussian profile with parameters a,b,c given in args\"\"\"\n",
    "        \"\"\"args must be an array of length 3 (args = [a,b,c])\"\"\"\n",
    "        a,b,c = args\n",
    "        return a * np.exp(-((x-b)/c)**2 / 2)\n",
    "\n",
    "    def n_gauss(self, x, args):\n",
    "        \"\"\"This one can compute a multigaussian profile\"\"\"\n",
    "        \"\"\"the number of gaussians depend on the length of args, being the int part of args/3\"\"\"\n",
    "        \"\"\"for example args=[a1,b1,c1,a2,b2,c2] will return a two gaussian profile with parameters\"\"\"\n",
    "        \"\"\"a1,b1,c1 and a2,b2,c2 respectively\"\"\"\n",
    "        number_of_gauss = len(args) // 3\n",
    "        out = np.zeros(len(x))\n",
    "        for n in range(number_of_gauss):\n",
    "            out += self.gauss(x,args[n*3:(n+1)*3])\n",
    "        return out\n",
    "\n",
    "    def fit_n_gauss(self, x, y, args_init, method, print_sol):\n",
    "        \"\"\"this one simply find the n_gaussian profile that best fit the profile given by x and y\"\"\"\n",
    "        \"\"\"uses the minimize function from scipy.optimize, with the default method but you can give\"\"\"\n",
    "        \"\"\"a method with the parameter method\"\"\"\n",
    "        \"\"\"the args_init parameter correspond to an array which length will tell the function how many\"\"\"\n",
    "        \"\"\"gaussians fit, and also will act as initial guess for the minimize function, so chose values\"\"\"\n",
    "        \"\"\"which are relative close to the expected best ones.\"\"\"\n",
    "\n",
    "        def chi_sqr(theta, x, y):\n",
    "            y_mod = self.n_gauss(x,theta)\n",
    "            return np.sum((y-y_mod)**2)\n",
    "\n",
    "        sol = minimize(chi_sqr, x0 = args_init, args=(x,y), method=method)\n",
    "        if print_sol:\n",
    "            print(sol)\n",
    "        params = sol.x\n",
    "        return params\n",
    "    \n",
    "    def do_plot(self):\n",
    "        \n",
    "        y_fit = self.n_gauss(self.wave, self.args_fit)\n",
    "        \n",
    "        fig, axs = plt.subplots(figsize=(7.7,4.8), dpi=80)\n",
    "        \n",
    "        axs.plot(self.wave, self.flux, label='original')\n",
    "        axs.plot(self.wave, y_fit, label='fit')\n",
    "        axs.set_xlabel(r'$\\Delta$ Wavelength [$\\rm\\AA$]')\n",
    "        axs.set_ylabel('Normalized Flux - 1')\n",
    "        axs.legend(loc=0)\n",
    "        \n",
    "        plt.show()\n",
    "        \n",
    "    def print_params(self):\n",
    "        \n",
    "        for i in range(self.m):\n",
    "            args = self.args_fit[3*i:3*(i+1)]\n",
    "            print('Gaussian {}:'.format(i+1))\n",
    "            print('\\ta : {:.2f}'.format(args[0]))\n",
    "            print('\\tb : {:.2f}'.format(args[1]))\n",
    "            print('\\tc : {:.2f}'.format(args[2]))"
   ]
  },
  {
   "cell_type": "code",
   "execution_count": 3,
   "metadata": {},
   "outputs": [
    {
     "name": "stdout",
     "output_type": "stream",
     "text": [
      "      fun: 0.00734213507372049\n",
      " hess_inv: <12x12 LbfgsInvHessProduct with dtype=float64>\n",
      "      jac: array([-3.83985378e-05,  3.98512822e-05,  2.55961053e-05, -3.73294277e-05,\n",
      "        4.28185268e-05, -4.59754633e-05,  3.52548719e-05, -1.94033159e-05,\n",
      "       -1.87356208e-05, -1.05819867e-05, -2.63171431e-05,  7.12155166e-05])\n",
      "  message: 'CONVERGENCE: REL_REDUCTION_OF_F_<=_FACTR*EPSMCH'\n",
      "     nfev: 1209\n",
      "      nit: 82\n",
      "     njev: 93\n",
      "   status: 0\n",
      "  success: True\n",
      "        x: array([-0.03735595, -5.14529602,  1.64214565, -0.05257451, -1.70037841,\n",
      "        1.71397454, -0.05149995,  1.70369269,  1.7062885 , -0.03438609,\n",
      "        5.02885964,  1.49025986])\n"
     ]
    },
    {
     "data": {
      "image/png": "[encoded data removed]",
      "text/plain": [
       "<Figure size 616x384 with 1 Axes>"
      ]
     },
     "metadata": {
      "needs_background": "light"
     },
     "output_type": "display_data"
    },
    {
     "name": "stdout",
     "output_type": "stream",
     "text": [
      "Gaussian 1:\n",
      "\ta : -0.04\n",
      "\tb : -5.15\n",
      "\tc : 1.64\n",
      "Gaussian 2:\n",
      "\ta : -0.05\n",
      "\tb : -1.70\n",
      "\tc : 1.71\n",
      "Gaussian 3:\n",
      "\ta : -0.05\n",
      "\tb : 1.70\n",
      "\tc : 1.71\n",
      "Gaussian 4:\n",
      "\ta : -0.03\n",
      "\tb : 5.03\n",
      "\tc : 1.49\n"
     ]
    }
   ],
   "source": [
    "input_path = '/home/lientur/DoctoradoUV/Investigation/deconvolution/rstan/abs_vsini_400_noise_1e-3.dat'\n",
    "m = 4\n",
    "stellarprofile = StellarProfile(input_path, m, method='L-BFGS-B', print_sol=True)\n",
    "stellarprofile.print_params()"
   ]
  },
  {
   "cell_type": "code",
   "execution_count": 4,
   "metadata": {},
   "outputs": [
    {
     "data": {
      "text/plain": [
       "0.002871794871794872"
      ]
     },
     "execution_count": 4,
     "metadata": {},
     "output_type": "execute_result"
    }
   ],
   "source": [
    "14/30 * 80/13000"
   ]
  }
 ],
 "metadata": {
  "kernelspec": {
   "display_name": "Python 3",
   "language": "python",
   "name": "python3"
  },
  "language_info": {
   "codemirror_mode": {
    "name": "ipython",
    "version": 3
   },
   "file_extension": ".py",
   "mimetype": "text/x-python",
   "name": "python",
   "nbconvert_exporter": "python",
   "pygments_lexer": "ipython3",
   "version": "3.8.10"
  }
 },
 "nbformat": 4,
 "nbformat_minor": 4
}
